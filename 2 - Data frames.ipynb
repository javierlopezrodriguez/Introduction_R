{
 "cells": [
  {
   "cell_type": "markdown",
   "metadata": {},
   "source": [
    "# Data Frames\n",
    "\n",
    "Data frames are the most important data type in R. They can be considered as matrix where columns can be of different types, in fact, data frames are just a collection of lists. <btr>\n",
    "Usually, data frames can be considered as sets of obervations (from an experiment, for example) where the rows are observations values and the columns the observation variables.\n"
   ]
  },
  {
   "cell_type": "code",
   "execution_count": 1,
   "metadata": {
    "scrolled": true
   },
   "outputs": [
    {
     "data": {
      "text/html": [
       "<table>\n",
       "<caption>A data.frame: 6 × 5</caption>\n",
       "<thead>\n",
       "\t<tr><th></th><th scope=col>Sepal.Length</th><th scope=col>Sepal.Width</th><th scope=col>Petal.Length</th><th scope=col>Petal.Width</th><th scope=col>Species</th></tr>\n",
       "\t<tr><th></th><th scope=col>&lt;dbl&gt;</th><th scope=col>&lt;dbl&gt;</th><th scope=col>&lt;dbl&gt;</th><th scope=col>&lt;dbl&gt;</th><th scope=col>&lt;fct&gt;</th></tr>\n",
       "</thead>\n",
       "<tbody>\n",
       "\t<tr><th scope=row>1</th><td>5.1</td><td>3.5</td><td>1.4</td><td>0.2</td><td>setosa</td></tr>\n",
       "\t<tr><th scope=row>2</th><td>4.9</td><td>3.0</td><td>1.4</td><td>0.2</td><td>setosa</td></tr>\n",
       "\t<tr><th scope=row>3</th><td>4.7</td><td>3.2</td><td>1.3</td><td>0.2</td><td>setosa</td></tr>\n",
       "\t<tr><th scope=row>4</th><td>4.6</td><td>3.1</td><td>1.5</td><td>0.2</td><td>setosa</td></tr>\n",
       "\t<tr><th scope=row>5</th><td>5.0</td><td>3.6</td><td>1.4</td><td>0.2</td><td>setosa</td></tr>\n",
       "\t<tr><th scope=row>6</th><td>5.4</td><td>3.9</td><td>1.7</td><td>0.4</td><td>setosa</td></tr>\n",
       "</tbody>\n",
       "</table>\n"
      ],
      "text/latex": [
       "A data.frame: 6 × 5\n",
       "\\begin{tabular}{r|lllll}\n",
       "  & Sepal.Length & Sepal.Width & Petal.Length & Petal.Width & Species\\\\\n",
       "  & <dbl> & <dbl> & <dbl> & <dbl> & <fct>\\\\\n",
       "\\hline\n",
       "\t1 & 5.1 & 3.5 & 1.4 & 0.2 & setosa\\\\\n",
       "\t2 & 4.9 & 3.0 & 1.4 & 0.2 & setosa\\\\\n",
       "\t3 & 4.7 & 3.2 & 1.3 & 0.2 & setosa\\\\\n",
       "\t4 & 4.6 & 3.1 & 1.5 & 0.2 & setosa\\\\\n",
       "\t5 & 5.0 & 3.6 & 1.4 & 0.2 & setosa\\\\\n",
       "\t6 & 5.4 & 3.9 & 1.7 & 0.4 & setosa\\\\\n",
       "\\end{tabular}\n"
      ],
      "text/markdown": [
       "\n",
       "A data.frame: 6 × 5\n",
       "\n",
       "| <!--/--> | Sepal.Length &lt;dbl&gt; | Sepal.Width &lt;dbl&gt; | Petal.Length &lt;dbl&gt; | Petal.Width &lt;dbl&gt; | Species &lt;fct&gt; |\n",
       "|---|---|---|---|---|---|\n",
       "| 1 | 5.1 | 3.5 | 1.4 | 0.2 | setosa |\n",
       "| 2 | 4.9 | 3.0 | 1.4 | 0.2 | setosa |\n",
       "| 3 | 4.7 | 3.2 | 1.3 | 0.2 | setosa |\n",
       "| 4 | 4.6 | 3.1 | 1.5 | 0.2 | setosa |\n",
       "| 5 | 5.0 | 3.6 | 1.4 | 0.2 | setosa |\n",
       "| 6 | 5.4 | 3.9 | 1.7 | 0.4 | setosa |\n",
       "\n"
      ],
      "text/plain": [
       "  Sepal.Length Sepal.Width Petal.Length Petal.Width Species\n",
       "1 5.1          3.5         1.4          0.2         setosa \n",
       "2 4.9          3.0         1.4          0.2         setosa \n",
       "3 4.7          3.2         1.3          0.2         setosa \n",
       "4 4.6          3.1         1.5          0.2         setosa \n",
       "5 5.0          3.6         1.4          0.2         setosa \n",
       "6 5.4          3.9         1.7          0.4         setosa "
      ]
     },
     "metadata": {},
     "output_type": "display_data"
    },
    {
     "data": {
      "text/html": [
       "<table>\n",
       "<caption>A data.frame: 6 × 5</caption>\n",
       "<thead>\n",
       "\t<tr><th></th><th scope=col>Sepal.Length</th><th scope=col>Sepal.Width</th><th scope=col>Petal.Length</th><th scope=col>Petal.Width</th><th scope=col>Species</th></tr>\n",
       "\t<tr><th></th><th scope=col>&lt;dbl&gt;</th><th scope=col>&lt;dbl&gt;</th><th scope=col>&lt;dbl&gt;</th><th scope=col>&lt;dbl&gt;</th><th scope=col>&lt;fct&gt;</th></tr>\n",
       "</thead>\n",
       "<tbody>\n",
       "\t<tr><th scope=row>145</th><td>6.7</td><td>3.3</td><td>5.7</td><td>2.5</td><td>virginica</td></tr>\n",
       "\t<tr><th scope=row>146</th><td>6.7</td><td>3.0</td><td>5.2</td><td>2.3</td><td>virginica</td></tr>\n",
       "\t<tr><th scope=row>147</th><td>6.3</td><td>2.5</td><td>5.0</td><td>1.9</td><td>virginica</td></tr>\n",
       "\t<tr><th scope=row>148</th><td>6.5</td><td>3.0</td><td>5.2</td><td>2.0</td><td>virginica</td></tr>\n",
       "\t<tr><th scope=row>149</th><td>6.2</td><td>3.4</td><td>5.4</td><td>2.3</td><td>virginica</td></tr>\n",
       "\t<tr><th scope=row>150</th><td>5.9</td><td>3.0</td><td>5.1</td><td>1.8</td><td>virginica</td></tr>\n",
       "</tbody>\n",
       "</table>\n"
      ],
      "text/latex": [
       "A data.frame: 6 × 5\n",
       "\\begin{tabular}{r|lllll}\n",
       "  & Sepal.Length & Sepal.Width & Petal.Length & Petal.Width & Species\\\\\n",
       "  & <dbl> & <dbl> & <dbl> & <dbl> & <fct>\\\\\n",
       "\\hline\n",
       "\t145 & 6.7 & 3.3 & 5.7 & 2.5 & virginica\\\\\n",
       "\t146 & 6.7 & 3.0 & 5.2 & 2.3 & virginica\\\\\n",
       "\t147 & 6.3 & 2.5 & 5.0 & 1.9 & virginica\\\\\n",
       "\t148 & 6.5 & 3.0 & 5.2 & 2.0 & virginica\\\\\n",
       "\t149 & 6.2 & 3.4 & 5.4 & 2.3 & virginica\\\\\n",
       "\t150 & 5.9 & 3.0 & 5.1 & 1.8 & virginica\\\\\n",
       "\\end{tabular}\n"
      ],
      "text/markdown": [
       "\n",
       "A data.frame: 6 × 5\n",
       "\n",
       "| <!--/--> | Sepal.Length &lt;dbl&gt; | Sepal.Width &lt;dbl&gt; | Petal.Length &lt;dbl&gt; | Petal.Width &lt;dbl&gt; | Species &lt;fct&gt; |\n",
       "|---|---|---|---|---|---|\n",
       "| 145 | 6.7 | 3.3 | 5.7 | 2.5 | virginica |\n",
       "| 146 | 6.7 | 3.0 | 5.2 | 2.3 | virginica |\n",
       "| 147 | 6.3 | 2.5 | 5.0 | 1.9 | virginica |\n",
       "| 148 | 6.5 | 3.0 | 5.2 | 2.0 | virginica |\n",
       "| 149 | 6.2 | 3.4 | 5.4 | 2.3 | virginica |\n",
       "| 150 | 5.9 | 3.0 | 5.1 | 1.8 | virginica |\n",
       "\n"
      ],
      "text/plain": [
       "    Sepal.Length Sepal.Width Petal.Length Petal.Width Species  \n",
       "145 6.7          3.3         5.7          2.5         virginica\n",
       "146 6.7          3.0         5.2          2.3         virginica\n",
       "147 6.3          2.5         5.0          1.9         virginica\n",
       "148 6.5          3.0         5.2          2.0         virginica\n",
       "149 6.2          3.4         5.4          2.3         virginica\n",
       "150 5.9          3.0         5.1          1.8         virginica"
      ]
     },
     "metadata": {},
     "output_type": "display_data"
    }
   ],
   "source": [
    "# iris is one of R pre-loaded data frames, let's print it \n",
    "head(iris)\n",
    "\n",
    "\n",
    "# print the last lines\n",
    "tail(iris)\n",
    "\n"
   ]
  },
  {
   "cell_type": "markdown",
   "metadata": {},
   "source": [
    "## Structure of a data frame"
   ]
  },
  {
   "cell_type": "code",
   "execution_count": 2,
   "metadata": {},
   "outputs": [
    {
     "name": "stdout",
     "output_type": "stream",
     "text": [
      "'data.frame':\t150 obs. of  5 variables:\n",
      " $ Sepal.Length: num  5.1 4.9 4.7 4.6 5 5.4 4.6 5 4.4 4.9 ...\n",
      " $ Sepal.Width : num  3.5 3 3.2 3.1 3.6 3.9 3.4 3.4 2.9 3.1 ...\n",
      " $ Petal.Length: num  1.4 1.4 1.3 1.5 1.4 1.7 1.4 1.5 1.4 1.5 ...\n",
      " $ Petal.Width : num  0.2 0.2 0.2 0.2 0.2 0.4 0.3 0.2 0.2 0.1 ...\n",
      " $ Species     : Factor w/ 3 levels \"setosa\",\"versicolor\",..: 1 1 1 1 1 1 1 1 1 1 ...\n"
     ]
    },
    {
     "data": {
      "image/png": "[encoded data removed]",
      "text/plain": [
       "plot without title"
      ]
     },
     "metadata": {
      "image/png": {
       "height": 420,
       "width": 420
      }
     },
     "output_type": "display_data"
    }
   ],
   "source": [
    "# print the structure (the type of each columns)\n",
    "str(iris)\n",
    "\n",
    "# make a pairs plot. Each column is plotted agains the others. This plot is very useful to have a general idea about the data frame\n",
    "pairs(iris[ , -ncol(iris)])\n",
    "# quitas los factores asi solo plotteas los datos\n",
    "\n"
   ]
  },
  {
   "cell_type": "markdown",
   "metadata": {},
   "source": [
    "## Manually create a data frame\n",
    "\n",
    "You can also manually create data frames\n",
    "\n",
    "\n"
   ]
  },
  {
   "cell_type": "code",
   "execution_count": 3,
   "metadata": {},
   "outputs": [
    {
     "data": {
      "text/html": [
       "<table>\n",
       "<caption>A data.frame: 4 × 3</caption>\n",
       "<thead>\n",
       "\t<tr><th scope=col>Players</th><th scope=col>Sex</th><th scope=col>Age</th></tr>\n",
       "\t<tr><th scope=col>&lt;chr&gt;</th><th scope=col>&lt;fct&gt;</th><th scope=col>&lt;dbl&gt;</th></tr>\n",
       "</thead>\n",
       "<tbody>\n",
       "\t<tr><td>Alice  </td><td>F</td><td>20</td></tr>\n",
       "\t<tr><td>Bob    </td><td>M</td><td>26</td></tr>\n",
       "\t<tr><td>John   </td><td>M</td><td>25</td></tr>\n",
       "\t<tr><td>Richard</td><td>M</td><td>65</td></tr>\n",
       "</tbody>\n",
       "</table>\n"
      ],
      "text/latex": [
       "A data.frame: 4 × 3\n",
       "\\begin{tabular}{lll}\n",
       " Players & Sex & Age\\\\\n",
       " <chr> & <fct> & <dbl>\\\\\n",
       "\\hline\n",
       "\t Alice   & F & 20\\\\\n",
       "\t Bob     & M & 26\\\\\n",
       "\t John    & M & 25\\\\\n",
       "\t Richard & M & 65\\\\\n",
       "\\end{tabular}\n"
      ],
      "text/markdown": [
       "\n",
       "A data.frame: 4 × 3\n",
       "\n",
       "| Players &lt;chr&gt; | Sex &lt;fct&gt; | Age &lt;dbl&gt; |\n",
       "|---|---|---|\n",
       "| Alice   | F | 20 |\n",
       "| Bob     | M | 26 |\n",
       "| John    | M | 25 |\n",
       "| Richard | M | 65 |\n",
       "\n"
      ],
      "text/plain": [
       "  Players Sex Age\n",
       "1 Alice   F   20 \n",
       "2 Bob     M   26 \n",
       "3 John    M   25 \n",
       "4 Richard M   65 "
      ]
     },
     "metadata": {},
     "output_type": "display_data"
    }
   ],
   "source": [
    "players <- c(\"Alice\", \"Bob\", \"John\", \"Richard\")\n",
    "sex <- factor(c(\"F\", \"M\", \"M\", \"M\"))\n",
    "age <- c(20, 26, 25, 65)\n",
    "\n",
    "df <- data.frame(Players = players, Sex = sex, Age = age)\n",
    "df"
   ]
  },
  {
   "cell_type": "markdown",
   "metadata": {},
   "source": [
    "## Subsetting data frames\n",
    "Data frames can be subsetted in the same way as the matrices as we saw before.\n",
    "Single columns can be selected with the dollar operator. Be careful that the result of selecting with the dollar is a vector"
   ]
  },
  {
   "cell_type": "code",
   "execution_count": 4,
   "metadata": {},
   "outputs": [
    {
     "data": {
      "text/html": [
       "'Second and third row'"
      ],
      "text/latex": [
       "'Second and third row'"
      ],
      "text/markdown": [
       "'Second and third row'"
      ],
      "text/plain": [
       "[1] \"Second and third row\""
      ]
     },
     "metadata": {},
     "output_type": "display_data"
    },
    {
     "data": {
      "text/html": [
       "<table>\n",
       "<caption>A data.frame: 2 × 5</caption>\n",
       "<thead>\n",
       "\t<tr><th></th><th scope=col>Sepal.Length</th><th scope=col>Sepal.Width</th><th scope=col>Petal.Length</th><th scope=col>Petal.Width</th><th scope=col>Species</th></tr>\n",
       "\t<tr><th></th><th scope=col>&lt;dbl&gt;</th><th scope=col>&lt;dbl&gt;</th><th scope=col>&lt;dbl&gt;</th><th scope=col>&lt;dbl&gt;</th><th scope=col>&lt;fct&gt;</th></tr>\n",
       "</thead>\n",
       "<tbody>\n",
       "\t<tr><th scope=row>2</th><td>4.9</td><td>3.0</td><td>1.4</td><td>0.2</td><td>setosa</td></tr>\n",
       "\t<tr><th scope=row>3</th><td>4.7</td><td>3.2</td><td>1.3</td><td>0.2</td><td>setosa</td></tr>\n",
       "</tbody>\n",
       "</table>\n"
      ],
      "text/latex": [
       "A data.frame: 2 × 5\n",
       "\\begin{tabular}{r|lllll}\n",
       "  & Sepal.Length & Sepal.Width & Petal.Length & Petal.Width & Species\\\\\n",
       "  & <dbl> & <dbl> & <dbl> & <dbl> & <fct>\\\\\n",
       "\\hline\n",
       "\t2 & 4.9 & 3.0 & 1.4 & 0.2 & setosa\\\\\n",
       "\t3 & 4.7 & 3.2 & 1.3 & 0.2 & setosa\\\\\n",
       "\\end{tabular}\n"
      ],
      "text/markdown": [
       "\n",
       "A data.frame: 2 × 5\n",
       "\n",
       "| <!--/--> | Sepal.Length &lt;dbl&gt; | Sepal.Width &lt;dbl&gt; | Petal.Length &lt;dbl&gt; | Petal.Width &lt;dbl&gt; | Species &lt;fct&gt; |\n",
       "|---|---|---|---|---|---|\n",
       "| 2 | 4.9 | 3.0 | 1.4 | 0.2 | setosa |\n",
       "| 3 | 4.7 | 3.2 | 1.3 | 0.2 | setosa |\n",
       "\n"
      ],
      "text/plain": [
       "  Sepal.Length Sepal.Width Petal.Length Petal.Width Species\n",
       "2 4.9          3.0         1.4          0.2         setosa \n",
       "3 4.7          3.2         1.3          0.2         setosa "
      ]
     },
     "metadata": {},
     "output_type": "display_data"
    },
    {
     "data": {
      "text/html": [
       "'One element'"
      ],
      "text/latex": [
       "'One element'"
      ],
      "text/markdown": [
       "'One element'"
      ],
      "text/plain": [
       "[1] \"One element\""
      ]
     },
     "metadata": {},
     "output_type": "display_data"
    },
    {
     "data": {
      "text/html": [
       "0.2"
      ],
      "text/latex": [
       "0.2"
      ],
      "text/markdown": [
       "0.2"
      ],
      "text/plain": [
       "[1] 0.2"
      ]
     },
     "metadata": {},
     "output_type": "display_data"
    },
    {
     "data": {
      "text/html": [
       "'One full column'"
      ],
      "text/latex": [
       "'One full column'"
      ],
      "text/markdown": [
       "'One full column'"
      ],
      "text/plain": [
       "[1] \"One full column\""
      ]
     },
     "metadata": {},
     "output_type": "display_data"
    },
    {
     "data": {
      "text/html": [
       "<style>\n",
       ".list-inline {list-style: none; margin:0; padding: 0}\n",
       ".list-inline>li {display: inline-block}\n",
       ".list-inline>li:not(:last-child)::after {content: \"\\00b7\"; padding: 0 .5ex}\n",
       "</style>\n",
       "<ol class=list-inline><li>5.1</li><li>4.9</li><li>4.7</li><li>4.6</li><li>5</li><li>5.4</li><li>4.6</li><li>5</li><li>4.4</li><li>4.9</li><li>5.4</li><li>4.8</li><li>4.8</li><li>4.3</li><li>5.8</li><li>5.7</li><li>5.4</li><li>5.1</li><li>5.7</li><li>5.1</li><li>5.4</li><li>5.1</li><li>4.6</li><li>5.1</li><li>4.8</li><li>5</li><li>5</li><li>5.2</li><li>5.2</li><li>4.7</li><li>4.8</li><li>5.4</li><li>5.2</li><li>5.5</li><li>4.9</li><li>5</li><li>5.5</li><li>4.9</li><li>4.4</li><li>5.1</li><li>5</li><li>4.5</li><li>4.4</li><li>5</li><li>5.1</li><li>4.8</li><li>5.1</li><li>4.6</li><li>5.3</li><li>5</li><li>7</li><li>6.4</li><li>6.9</li><li>5.5</li><li>6.5</li><li>5.7</li><li>6.3</li><li>4.9</li><li>6.6</li><li>5.2</li><li>5</li><li>5.9</li><li>6</li><li>6.1</li><li>5.6</li><li>6.7</li><li>5.6</li><li>5.8</li><li>6.2</li><li>5.6</li><li>5.9</li><li>6.1</li><li>6.3</li><li>6.1</li><li>6.4</li><li>6.6</li><li>6.8</li><li>6.7</li><li>6</li><li>5.7</li><li>5.5</li><li>5.5</li><li>5.8</li><li>6</li><li>5.4</li><li>6</li><li>6.7</li><li>6.3</li><li>5.6</li><li>5.5</li><li>5.5</li><li>6.1</li><li>5.8</li><li>5</li><li>5.6</li><li>5.7</li><li>5.7</li><li>6.2</li><li>5.1</li><li>5.7</li><li>6.3</li><li>5.8</li><li>7.1</li><li>6.3</li><li>6.5</li><li>7.6</li><li>4.9</li><li>7.3</li><li>6.7</li><li>7.2</li><li>6.5</li><li>6.4</li><li>6.8</li><li>5.7</li><li>5.8</li><li>6.4</li><li>6.5</li><li>7.7</li><li>7.7</li><li>6</li><li>6.9</li><li>5.6</li><li>7.7</li><li>6.3</li><li>6.7</li><li>7.2</li><li>6.2</li><li>6.1</li><li>6.4</li><li>7.2</li><li>7.4</li><li>7.9</li><li>6.4</li><li>6.3</li><li>6.1</li><li>7.7</li><li>6.3</li><li>6.4</li><li>6</li><li>6.9</li><li>6.7</li><li>6.9</li><li>5.8</li><li>6.8</li><li>6.7</li><li>6.7</li><li>6.3</li><li>6.5</li><li>6.2</li><li>5.9</li></ol>\n"
      ],
      "text/latex": [
       "\\begin{enumerate*}\n",
       "\\item 5.1\n",
       "\\item 4.9\n",
       "\\item 4.7\n",
       "\\item 4.6\n",
       "\\item 5\n",
       "\\item 5.4\n",
       "\\item 4.6\n",
       "\\item 5\n",
       "\\item 4.4\n",
       "\\item 4.9\n",
       "\\item 5.4\n",
       "\\item 4.8\n",
       "\\item 4.8\n",
       "\\item 4.3\n",
       "\\item 5.8\n",
       "\\item 5.7\n",
       "\\item 5.4\n",
       "\\item 5.1\n",
       "\\item 5.7\n",
       "\\item 5.1\n",
       "\\item 5.4\n",
       "\\item 5.1\n",
       "\\item 4.6\n",
       "\\item 5.1\n",
       "\\item 4.8\n",
       "\\item 5\n",
       "\\item 5\n",
       "\\item 5.2\n",
       "\\item 5.2\n",
       "\\item 4.7\n",
       "\\item 4.8\n",
       "\\item 5.4\n",
       "\\item 5.2\n",
       "\\item 5.5\n",
       "\\item 4.9\n",
       "\\item 5\n",
       "\\item 5.5\n",
       "\\item 4.9\n",
       "\\item 4.4\n",
       "\\item 5.1\n",
       "\\item 5\n",
       "\\item 4.5\n",
       "\\item 4.4\n",
       "\\item 5\n",
       "\\item 5.1\n",
       "\\item 4.8\n",
       "\\item 5.1\n",
       "\\item 4.6\n",
       "\\item 5.3\n",
       "\\item 5\n",
       "\\item 7\n",
       "\\item 6.4\n",
       "\\item 6.9\n",
       "\\item 5.5\n",
       "\\item 6.5\n",
       "\\item 5.7\n",
       "\\item 6.3\n",
       "\\item 4.9\n",
       "\\item 6.6\n",
       "\\item 5.2\n",
       "\\item 5\n",
       "\\item 5.9\n",
       "\\item 6\n",
       "\\item 6.1\n",
       "\\item 5.6\n",
       "\\item 6.7\n",
       "\\item 5.6\n",
       "\\item 5.8\n",
       "\\item 6.2\n",
       "\\item 5.6\n",
       "\\item 5.9\n",
       "\\item 6.1\n",
       "\\item 6.3\n",
       "\\item 6.1\n",
       "\\item 6.4\n",
       "\\item 6.6\n",
       "\\item 6.8\n",
       "\\item 6.7\n",
       "\\item 6\n",
       "\\item 5.7\n",
       "\\item 5.5\n",
       "\\item 5.5\n",
       "\\item 5.8\n",
       "\\item 6\n",
       "\\item 5.4\n",
       "\\item 6\n",
       "\\item 6.7\n",
       "\\item 6.3\n",
       "\\item 5.6\n",
       "\\item 5.5\n",
       "\\item 5.5\n",
       "\\item 6.1\n",
       "\\item 5.8\n",
       "\\item 5\n",
       "\\item 5.6\n",
       "\\item 5.7\n",
       "\\item 5.7\n",
       "\\item 6.2\n",
       "\\item 5.1\n",
       "\\item 5.7\n",
       "\\item 6.3\n",
       "\\item 5.8\n",
       "\\item 7.1\n",
       "\\item 6.3\n",
       "\\item 6.5\n",
       "\\item 7.6\n",
       "\\item 4.9\n",
       "\\item 7.3\n",
       "\\item 6.7\n",
       "\\item 7.2\n",
       "\\item 6.5\n",
       "\\item 6.4\n",
       "\\item 6.8\n",
       "\\item 5.7\n",
       "\\item 5.8\n",
       "\\item 6.4\n",
       "\\item 6.5\n",
       "\\item 7.7\n",
       "\\item 7.7\n",
       "\\item 6\n",
       "\\item 6.9\n",
       "\\item 5.6\n",
       "\\item 7.7\n",
       "\\item 6.3\n",
       "\\item 6.7\n",
       "\\item 7.2\n",
       "\\item 6.2\n",
       "\\item 6.1\n",
       "\\item 6.4\n",
       "\\item 7.2\n",
       "\\item 7.4\n",
       "\\item 7.9\n",
       "\\item 6.4\n",
       "\\item 6.3\n",
       "\\item 6.1\n",
       "\\item 7.7\n",
       "\\item 6.3\n",
       "\\item 6.4\n",
       "\\item 6\n",
       "\\item 6.9\n",
       "\\item 6.7\n",
       "\\item 6.9\n",
       "\\item 5.8\n",
       "\\item 6.8\n",
       "\\item 6.7\n",
       "\\item 6.7\n",
       "\\item 6.3\n",
       "\\item 6.5\n",
       "\\item 6.2\n",
       "\\item 5.9\n",
       "\\end{enumerate*}\n"
      ],
      "text/markdown": [
       "1. 5.1\n",
       "2. 4.9\n",
       "3. 4.7\n",
       "4. 4.6\n",
       "5. 5\n",
       "6. 5.4\n",
       "7. 4.6\n",
       "8. 5\n",
       "9. 4.4\n",
       "10. 4.9\n",
       "11. 5.4\n",
       "12. 4.8\n",
       "13. 4.8\n",
       "14. 4.3\n",
       "15. 5.8\n",
       "16. 5.7\n",
       "17. 5.4\n",
       "18. 5.1\n",
       "19. 5.7\n",
       "20. 5.1\n",
       "21. 5.4\n",
       "22. 5.1\n",
       "23. 4.6\n",
       "24. 5.1\n",
       "25. 4.8\n",
       "26. 5\n",
       "27. 5\n",
       "28. 5.2\n",
       "29. 5.2\n",
       "30. 4.7\n",
       "31. 4.8\n",
       "32. 5.4\n",
       "33. 5.2\n",
       "34. 5.5\n",
       "35. 4.9\n",
       "36. 5\n",
       "37. 5.5\n",
       "38. 4.9\n",
       "39. 4.4\n",
       "40. 5.1\n",
       "41. 5\n",
       "42. 4.5\n",
       "43. 4.4\n",
       "44. 5\n",
       "45. 5.1\n",
       "46. 4.8\n",
       "47. 5.1\n",
       "48. 4.6\n",
       "49. 5.3\n",
       "50. 5\n",
       "51. 7\n",
       "52. 6.4\n",
       "53. 6.9\n",
       "54. 5.5\n",
       "55. 6.5\n",
       "56. 5.7\n",
       "57. 6.3\n",
       "58. 4.9\n",
       "59. 6.6\n",
       "60. 5.2\n",
       "61. 5\n",
       "62. 5.9\n",
       "63. 6\n",
       "64. 6.1\n",
       "65. 5.6\n",
       "66. 6.7\n",
       "67. 5.6\n",
       "68. 5.8\n",
       "69. 6.2\n",
       "70. 5.6\n",
       "71. 5.9\n",
       "72. 6.1\n",
       "73. 6.3\n",
       "74. 6.1\n",
       "75. 6.4\n",
       "76. 6.6\n",
       "77. 6.8\n",
       "78. 6.7\n",
       "79. 6\n",
       "80. 5.7\n",
       "81. 5.5\n",
       "82. 5.5\n",
       "83. 5.8\n",
       "84. 6\n",
       "85. 5.4\n",
       "86. 6\n",
       "87. 6.7\n",
       "88. 6.3\n",
       "89. 5.6\n",
       "90. 5.5\n",
       "91. 5.5\n",
       "92. 6.1\n",
       "93. 5.8\n",
       "94. 5\n",
       "95. 5.6\n",
       "96. 5.7\n",
       "97. 5.7\n",
       "98. 6.2\n",
       "99. 5.1\n",
       "100. 5.7\n",
       "101. 6.3\n",
       "102. 5.8\n",
       "103. 7.1\n",
       "104. 6.3\n",
       "105. 6.5\n",
       "106. 7.6\n",
       "107. 4.9\n",
       "108. 7.3\n",
       "109. 6.7\n",
       "110. 7.2\n",
       "111. 6.5\n",
       "112. 6.4\n",
       "113. 6.8\n",
       "114. 5.7\n",
       "115. 5.8\n",
       "116. 6.4\n",
       "117. 6.5\n",
       "118. 7.7\n",
       "119. 7.7\n",
       "120. 6\n",
       "121. 6.9\n",
       "122. 5.6\n",
       "123. 7.7\n",
       "124. 6.3\n",
       "125. 6.7\n",
       "126. 7.2\n",
       "127. 6.2\n",
       "128. 6.1\n",
       "129. 6.4\n",
       "130. 7.2\n",
       "131. 7.4\n",
       "132. 7.9\n",
       "133. 6.4\n",
       "134. 6.3\n",
       "135. 6.1\n",
       "136. 7.7\n",
       "137. 6.3\n",
       "138. 6.4\n",
       "139. 6\n",
       "140. 6.9\n",
       "141. 6.7\n",
       "142. 6.9\n",
       "143. 5.8\n",
       "144. 6.8\n",
       "145. 6.7\n",
       "146. 6.7\n",
       "147. 6.3\n",
       "148. 6.5\n",
       "149. 6.2\n",
       "150. 5.9\n",
       "\n",
       "\n"
      ],
      "text/plain": [
       "  [1] 5.1 4.9 4.7 4.6 5.0 5.4 4.6 5.0 4.4 4.9 5.4 4.8 4.8 4.3 5.8 5.7 5.4 5.1\n",
       " [19] 5.7 5.1 5.4 5.1 4.6 5.1 4.8 5.0 5.0 5.2 5.2 4.7 4.8 5.4 5.2 5.5 4.9 5.0\n",
       " [37] 5.5 4.9 4.4 5.1 5.0 4.5 4.4 5.0 5.1 4.8 5.1 4.6 5.3 5.0 7.0 6.4 6.9 5.5\n",
       " [55] 6.5 5.7 6.3 4.9 6.6 5.2 5.0 5.9 6.0 6.1 5.6 6.7 5.6 5.8 6.2 5.6 5.9 6.1\n",
       " [73] 6.3 6.1 6.4 6.6 6.8 6.7 6.0 5.7 5.5 5.5 5.8 6.0 5.4 6.0 6.7 6.3 5.6 5.5\n",
       " [91] 5.5 6.1 5.8 5.0 5.6 5.7 5.7 6.2 5.1 5.7 6.3 5.8 7.1 6.3 6.5 7.6 4.9 7.3\n",
       "[109] 6.7 7.2 6.5 6.4 6.8 5.7 5.8 6.4 6.5 7.7 7.7 6.0 6.9 5.6 7.7 6.3 6.7 7.2\n",
       "[127] 6.2 6.1 6.4 7.2 7.4 7.9 6.4 6.3 6.1 7.7 6.3 6.4 6.0 6.9 6.7 6.9 5.8 6.8\n",
       "[145] 6.7 6.7 6.3 6.5 6.2 5.9"
      ]
     },
     "metadata": {},
     "output_type": "display_data"
    }
   ],
   "source": [
    "\"Second and third row\"\n",
    "iris[2:3,]\n",
    "\n",
    "\"One element\"\n",
    "iris[2,4]\n",
    "\n",
    "\"One full column\" \n",
    "iris$Sepal.Length\n"
   ]
  },
  {
   "cell_type": "markdown",
   "metadata": {},
   "source": [
    "## subset function\n",
    "\n",
    "A useful function to subset data frame is the \"subset\" function, which allow you to select some part od the data frame based on some conditions"
   ]
  },
  {
   "cell_type": "code",
   "execution_count": 5,
   "metadata": {},
   "outputs": [
    {
     "data": {
      "text/html": [
       "'Select only setosa species'"
      ],
      "text/latex": [
       "'Select only setosa species'"
      ],
      "text/markdown": [
       "'Select only setosa species'"
      ],
      "text/plain": [
       "[1] \"Select only setosa species\""
      ]
     },
     "metadata": {},
     "output_type": "display_data"
    },
    {
     "data": {
      "text/html": [
       "<table>\n",
       "<caption>A data.frame: 6 × 5</caption>\n",
       "<thead>\n",
       "\t<tr><th></th><th scope=col>Sepal.Length</th><th scope=col>Sepal.Width</th><th scope=col>Petal.Length</th><th scope=col>Petal.Width</th><th scope=col>Species</th></tr>\n",
       "\t<tr><th></th><th scope=col>&lt;dbl&gt;</th><th scope=col>&lt;dbl&gt;</th><th scope=col>&lt;dbl&gt;</th><th scope=col>&lt;dbl&gt;</th><th scope=col>&lt;fct&gt;</th></tr>\n",
       "</thead>\n",
       "<tbody>\n",
       "\t<tr><th scope=row>101</th><td>6.3</td><td>3.3</td><td>6.0</td><td>2.5</td><td>virginica</td></tr>\n",
       "\t<tr><th scope=row>102</th><td>5.8</td><td>2.7</td><td>5.1</td><td>1.9</td><td>virginica</td></tr>\n",
       "\t<tr><th scope=row>103</th><td>7.1</td><td>3.0</td><td>5.9</td><td>2.1</td><td>virginica</td></tr>\n",
       "\t<tr><th scope=row>104</th><td>6.3</td><td>2.9</td><td>5.6</td><td>1.8</td><td>virginica</td></tr>\n",
       "\t<tr><th scope=row>105</th><td>6.5</td><td>3.0</td><td>5.8</td><td>2.2</td><td>virginica</td></tr>\n",
       "\t<tr><th scope=row>106</th><td>7.6</td><td>3.0</td><td>6.6</td><td>2.1</td><td>virginica</td></tr>\n",
       "</tbody>\n",
       "</table>\n"
      ],
      "text/latex": [
       "A data.frame: 6 × 5\n",
       "\\begin{tabular}{r|lllll}\n",
       "  & Sepal.Length & Sepal.Width & Petal.Length & Petal.Width & Species\\\\\n",
       "  & <dbl> & <dbl> & <dbl> & <dbl> & <fct>\\\\\n",
       "\\hline\n",
       "\t101 & 6.3 & 3.3 & 6.0 & 2.5 & virginica\\\\\n",
       "\t102 & 5.8 & 2.7 & 5.1 & 1.9 & virginica\\\\\n",
       "\t103 & 7.1 & 3.0 & 5.9 & 2.1 & virginica\\\\\n",
       "\t104 & 6.3 & 2.9 & 5.6 & 1.8 & virginica\\\\\n",
       "\t105 & 6.5 & 3.0 & 5.8 & 2.2 & virginica\\\\\n",
       "\t106 & 7.6 & 3.0 & 6.6 & 2.1 & virginica\\\\\n",
       "\\end{tabular}\n"
      ],
      "text/markdown": [
       "\n",
       "A data.frame: 6 × 5\n",
       "\n",
       "| <!--/--> | Sepal.Length &lt;dbl&gt; | Sepal.Width &lt;dbl&gt; | Petal.Length &lt;dbl&gt; | Petal.Width &lt;dbl&gt; | Species &lt;fct&gt; |\n",
       "|---|---|---|---|---|---|\n",
       "| 101 | 6.3 | 3.3 | 6.0 | 2.5 | virginica |\n",
       "| 102 | 5.8 | 2.7 | 5.1 | 1.9 | virginica |\n",
       "| 103 | 7.1 | 3.0 | 5.9 | 2.1 | virginica |\n",
       "| 104 | 6.3 | 2.9 | 5.6 | 1.8 | virginica |\n",
       "| 105 | 6.5 | 3.0 | 5.8 | 2.2 | virginica |\n",
       "| 106 | 7.6 | 3.0 | 6.6 | 2.1 | virginica |\n",
       "\n"
      ],
      "text/plain": [
       "    Sepal.Length Sepal.Width Petal.Length Petal.Width Species  \n",
       "101 6.3          3.3         6.0          2.5         virginica\n",
       "102 5.8          2.7         5.1          1.9         virginica\n",
       "103 7.1          3.0         5.9          2.1         virginica\n",
       "104 6.3          2.9         5.6          1.8         virginica\n",
       "105 6.5          3.0         5.8          2.2         virginica\n",
       "106 7.6          3.0         6.6          2.1         virginica"
      ]
     },
     "metadata": {},
     "output_type": "display_data"
    },
    {
     "data": {
      "text/html": [
       "'Select only sepal width between 3 and 4'"
      ],
      "text/latex": [
       "'Select only sepal width between 3 and 4'"
      ],
      "text/markdown": [
       "'Select only sepal width between 3 and 4'"
      ],
      "text/plain": [
       "[1] \"Select only sepal width between 3 and 4\""
      ]
     },
     "metadata": {},
     "output_type": "display_data"
    },
    {
     "data": {
      "text/html": [
       "<table>\n",
       "<caption>A data.frame: 6 × 5</caption>\n",
       "<thead>\n",
       "\t<tr><th></th><th scope=col>Sepal.Length</th><th scope=col>Sepal.Width</th><th scope=col>Petal.Length</th><th scope=col>Petal.Width</th><th scope=col>Species</th></tr>\n",
       "\t<tr><th></th><th scope=col>&lt;dbl&gt;</th><th scope=col>&lt;dbl&gt;</th><th scope=col>&lt;dbl&gt;</th><th scope=col>&lt;dbl&gt;</th><th scope=col>&lt;fct&gt;</th></tr>\n",
       "</thead>\n",
       "<tbody>\n",
       "\t<tr><th scope=row>101</th><td>6.3</td><td>3.3</td><td>6.0</td><td>2.5</td><td>virginica</td></tr>\n",
       "\t<tr><th scope=row>102</th><td>5.8</td><td>2.7</td><td>5.1</td><td>1.9</td><td>virginica</td></tr>\n",
       "\t<tr><th scope=row>103</th><td>7.1</td><td>3.0</td><td>5.9</td><td>2.1</td><td>virginica</td></tr>\n",
       "\t<tr><th scope=row>104</th><td>6.3</td><td>2.9</td><td>5.6</td><td>1.8</td><td>virginica</td></tr>\n",
       "\t<tr><th scope=row>105</th><td>6.5</td><td>3.0</td><td>5.8</td><td>2.2</td><td>virginica</td></tr>\n",
       "\t<tr><th scope=row>106</th><td>7.6</td><td>3.0</td><td>6.6</td><td>2.1</td><td>virginica</td></tr>\n",
       "</tbody>\n",
       "</table>\n"
      ],
      "text/latex": [
       "A data.frame: 6 × 5\n",
       "\\begin{tabular}{r|lllll}\n",
       "  & Sepal.Length & Sepal.Width & Petal.Length & Petal.Width & Species\\\\\n",
       "  & <dbl> & <dbl> & <dbl> & <dbl> & <fct>\\\\\n",
       "\\hline\n",
       "\t101 & 6.3 & 3.3 & 6.0 & 2.5 & virginica\\\\\n",
       "\t102 & 5.8 & 2.7 & 5.1 & 1.9 & virginica\\\\\n",
       "\t103 & 7.1 & 3.0 & 5.9 & 2.1 & virginica\\\\\n",
       "\t104 & 6.3 & 2.9 & 5.6 & 1.8 & virginica\\\\\n",
       "\t105 & 6.5 & 3.0 & 5.8 & 2.2 & virginica\\\\\n",
       "\t106 & 7.6 & 3.0 & 6.6 & 2.1 & virginica\\\\\n",
       "\\end{tabular}\n"
      ],
      "text/markdown": [
       "\n",
       "A data.frame: 6 × 5\n",
       "\n",
       "| <!--/--> | Sepal.Length &lt;dbl&gt; | Sepal.Width &lt;dbl&gt; | Petal.Length &lt;dbl&gt; | Petal.Width &lt;dbl&gt; | Species &lt;fct&gt; |\n",
       "|---|---|---|---|---|---|\n",
       "| 101 | 6.3 | 3.3 | 6.0 | 2.5 | virginica |\n",
       "| 102 | 5.8 | 2.7 | 5.1 | 1.9 | virginica |\n",
       "| 103 | 7.1 | 3.0 | 5.9 | 2.1 | virginica |\n",
       "| 104 | 6.3 | 2.9 | 5.6 | 1.8 | virginica |\n",
       "| 105 | 6.5 | 3.0 | 5.8 | 2.2 | virginica |\n",
       "| 106 | 7.6 | 3.0 | 6.6 | 2.1 | virginica |\n",
       "\n"
      ],
      "text/plain": [
       "    Sepal.Length Sepal.Width Petal.Length Petal.Width Species  \n",
       "101 6.3          3.3         6.0          2.5         virginica\n",
       "102 5.8          2.7         5.1          1.9         virginica\n",
       "103 7.1          3.0         5.9          2.1         virginica\n",
       "104 6.3          2.9         5.6          1.8         virginica\n",
       "105 6.5          3.0         5.8          2.2         virginica\n",
       "106 7.6          3.0         6.6          2.1         virginica"
      ]
     },
     "metadata": {},
     "output_type": "display_data"
    }
   ],
   "source": [
    "\n",
    "\"Select only setosa species\"\n",
    "head( subset(iris, Species == \"virginica\") )\n",
    "\n",
    "\"Select only sepal width between 3 and 4\"\n",
    "head( subset(iris, (Sepal.Length > 3 & Sepal.Width < 4 & Species == \"virginica\")) )  # OR is |\n"
   ]
  },
  {
   "cell_type": "markdown",
   "metadata": {},
   "source": [
    "## Sorting data frames\n",
    "\n",
    "To sort data frames by one column, use the \"order\" function on some column"
   ]
  },
  {
   "cell_type": "code",
   "execution_count": 6,
   "metadata": {},
   "outputs": [
    {
     "data": {
      "text/html": [
       "'Sort by sepal width'"
      ],
      "text/latex": [
       "'Sort by sepal width'"
      ],
      "text/markdown": [
       "'Sort by sepal width'"
      ],
      "text/plain": [
       "[1] \"Sort by sepal width\""
      ]
     },
     "metadata": {},
     "output_type": "display_data"
    },
    {
     "data": {
      "text/html": [
       "<table>\n",
       "<caption>A data.frame: 6 × 5</caption>\n",
       "<thead>\n",
       "\t<tr><th></th><th scope=col>Sepal.Length</th><th scope=col>Sepal.Width</th><th scope=col>Petal.Length</th><th scope=col>Petal.Width</th><th scope=col>Species</th></tr>\n",
       "\t<tr><th></th><th scope=col>&lt;dbl&gt;</th><th scope=col>&lt;dbl&gt;</th><th scope=col>&lt;dbl&gt;</th><th scope=col>&lt;dbl&gt;</th><th scope=col>&lt;fct&gt;</th></tr>\n",
       "</thead>\n",
       "<tbody>\n",
       "\t<tr><th scope=row>61</th><td>5.0</td><td>2.0</td><td>3.5</td><td>1.0</td><td>versicolor</td></tr>\n",
       "\t<tr><th scope=row>63</th><td>6.0</td><td>2.2</td><td>4.0</td><td>1.0</td><td>versicolor</td></tr>\n",
       "\t<tr><th scope=row>69</th><td>6.2</td><td>2.2</td><td>4.5</td><td>1.5</td><td>versicolor</td></tr>\n",
       "\t<tr><th scope=row>120</th><td>6.0</td><td>2.2</td><td>5.0</td><td>1.5</td><td>virginica </td></tr>\n",
       "\t<tr><th scope=row>42</th><td>4.5</td><td>2.3</td><td>1.3</td><td>0.3</td><td>setosa    </td></tr>\n",
       "\t<tr><th scope=row>54</th><td>5.5</td><td>2.3</td><td>4.0</td><td>1.3</td><td>versicolor</td></tr>\n",
       "</tbody>\n",
       "</table>\n"
      ],
      "text/latex": [
       "A data.frame: 6 × 5\n",
       "\\begin{tabular}{r|lllll}\n",
       "  & Sepal.Length & Sepal.Width & Petal.Length & Petal.Width & Species\\\\\n",
       "  & <dbl> & <dbl> & <dbl> & <dbl> & <fct>\\\\\n",
       "\\hline\n",
       "\t61 & 5.0 & 2.0 & 3.5 & 1.0 & versicolor\\\\\n",
       "\t63 & 6.0 & 2.2 & 4.0 & 1.0 & versicolor\\\\\n",
       "\t69 & 6.2 & 2.2 & 4.5 & 1.5 & versicolor\\\\\n",
       "\t120 & 6.0 & 2.2 & 5.0 & 1.5 & virginica \\\\\n",
       "\t42 & 4.5 & 2.3 & 1.3 & 0.3 & setosa    \\\\\n",
       "\t54 & 5.5 & 2.3 & 4.0 & 1.3 & versicolor\\\\\n",
       "\\end{tabular}\n"
      ],
      "text/markdown": [
       "\n",
       "A data.frame: 6 × 5\n",
       "\n",
       "| <!--/--> | Sepal.Length &lt;dbl&gt; | Sepal.Width &lt;dbl&gt; | Petal.Length &lt;dbl&gt; | Petal.Width &lt;dbl&gt; | Species &lt;fct&gt; |\n",
       "|---|---|---|---|---|---|\n",
       "| 61 | 5.0 | 2.0 | 3.5 | 1.0 | versicolor |\n",
       "| 63 | 6.0 | 2.2 | 4.0 | 1.0 | versicolor |\n",
       "| 69 | 6.2 | 2.2 | 4.5 | 1.5 | versicolor |\n",
       "| 120 | 6.0 | 2.2 | 5.0 | 1.5 | virginica  |\n",
       "| 42 | 4.5 | 2.3 | 1.3 | 0.3 | setosa     |\n",
       "| 54 | 5.5 | 2.3 | 4.0 | 1.3 | versicolor |\n",
       "\n"
      ],
      "text/plain": [
       "    Sepal.Length Sepal.Width Petal.Length Petal.Width Species   \n",
       "61  5.0          2.0         3.5          1.0         versicolor\n",
       "63  6.0          2.2         4.0          1.0         versicolor\n",
       "69  6.2          2.2         4.5          1.5         versicolor\n",
       "120 6.0          2.2         5.0          1.5         virginica \n",
       "42  4.5          2.3         1.3          0.3         setosa    \n",
       "54  5.5          2.3         4.0          1.3         versicolor"
      ]
     },
     "metadata": {},
     "output_type": "display_data"
    },
    {
     "data": {
      "text/html": [
       "'Sort by sepal width, inverse order'"
      ],
      "text/latex": [
       "'Sort by sepal width, inverse order'"
      ],
      "text/markdown": [
       "'Sort by sepal width, inverse order'"
      ],
      "text/plain": [
       "[1] \"Sort by sepal width, inverse order\""
      ]
     },
     "metadata": {},
     "output_type": "display_data"
    },
    {
     "data": {
      "text/html": [
       "<table>\n",
       "<caption>A data.frame: 6 × 5</caption>\n",
       "<thead>\n",
       "\t<tr><th></th><th scope=col>Sepal.Length</th><th scope=col>Sepal.Width</th><th scope=col>Petal.Length</th><th scope=col>Petal.Width</th><th scope=col>Species</th></tr>\n",
       "\t<tr><th></th><th scope=col>&lt;dbl&gt;</th><th scope=col>&lt;dbl&gt;</th><th scope=col>&lt;dbl&gt;</th><th scope=col>&lt;dbl&gt;</th><th scope=col>&lt;fct&gt;</th></tr>\n",
       "</thead>\n",
       "<tbody>\n",
       "\t<tr><th scope=row>16</th><td>5.7</td><td>4.4</td><td>1.5</td><td>0.4</td><td>setosa</td></tr>\n",
       "\t<tr><th scope=row>34</th><td>5.5</td><td>4.2</td><td>1.4</td><td>0.2</td><td>setosa</td></tr>\n",
       "\t<tr><th scope=row>33</th><td>5.2</td><td>4.1</td><td>1.5</td><td>0.1</td><td>setosa</td></tr>\n",
       "\t<tr><th scope=row>15</th><td>5.8</td><td>4.0</td><td>1.2</td><td>0.2</td><td>setosa</td></tr>\n",
       "\t<tr><th scope=row>6</th><td>5.4</td><td>3.9</td><td>1.7</td><td>0.4</td><td>setosa</td></tr>\n",
       "\t<tr><th scope=row>17</th><td>5.4</td><td>3.9</td><td>1.3</td><td>0.4</td><td>setosa</td></tr>\n",
       "</tbody>\n",
       "</table>\n"
      ],
      "text/latex": [
       "A data.frame: 6 × 5\n",
       "\\begin{tabular}{r|lllll}\n",
       "  & Sepal.Length & Sepal.Width & Petal.Length & Petal.Width & Species\\\\\n",
       "  & <dbl> & <dbl> & <dbl> & <dbl> & <fct>\\\\\n",
       "\\hline\n",
       "\t16 & 5.7 & 4.4 & 1.5 & 0.4 & setosa\\\\\n",
       "\t34 & 5.5 & 4.2 & 1.4 & 0.2 & setosa\\\\\n",
       "\t33 & 5.2 & 4.1 & 1.5 & 0.1 & setosa\\\\\n",
       "\t15 & 5.8 & 4.0 & 1.2 & 0.2 & setosa\\\\\n",
       "\t6 & 5.4 & 3.9 & 1.7 & 0.4 & setosa\\\\\n",
       "\t17 & 5.4 & 3.9 & 1.3 & 0.4 & setosa\\\\\n",
       "\\end{tabular}\n"
      ],
      "text/markdown": [
       "\n",
       "A data.frame: 6 × 5\n",
       "\n",
       "| <!--/--> | Sepal.Length &lt;dbl&gt; | Sepal.Width &lt;dbl&gt; | Petal.Length &lt;dbl&gt; | Petal.Width &lt;dbl&gt; | Species &lt;fct&gt; |\n",
       "|---|---|---|---|---|---|\n",
       "| 16 | 5.7 | 4.4 | 1.5 | 0.4 | setosa |\n",
       "| 34 | 5.5 | 4.2 | 1.4 | 0.2 | setosa |\n",
       "| 33 | 5.2 | 4.1 | 1.5 | 0.1 | setosa |\n",
       "| 15 | 5.8 | 4.0 | 1.2 | 0.2 | setosa |\n",
       "| 6 | 5.4 | 3.9 | 1.7 | 0.4 | setosa |\n",
       "| 17 | 5.4 | 3.9 | 1.3 | 0.4 | setosa |\n",
       "\n"
      ],
      "text/plain": [
       "   Sepal.Length Sepal.Width Petal.Length Petal.Width Species\n",
       "16 5.7          4.4         1.5          0.4         setosa \n",
       "34 5.5          4.2         1.4          0.2         setosa \n",
       "33 5.2          4.1         1.5          0.1         setosa \n",
       "15 5.8          4.0         1.2          0.2         setosa \n",
       "6  5.4          3.9         1.7          0.4         setosa \n",
       "17 5.4          3.9         1.3          0.4         setosa "
      ]
     },
     "metadata": {},
     "output_type": "display_data"
    }
   ],
   "source": [
    "\"Sort by sepal width\"\n",
    "head( iris[order(iris$Sepal.Width), ] )\n",
    "\n",
    "\"Sort by sepal width, inverse order\"\n",
    "head( iris[order(iris$Sepal.Width, decreasing = T), ] )\n",
    "\n"
   ]
  },
  {
   "cell_type": "markdown",
   "metadata": {},
   "source": [
    "## Wide to long format\n",
    "\n",
    "The data frame iris that we saw before is in \"wide\" format. Many functions in R expect data to be in a \"long\" format rather than a wide format (especially the ggplot functions that will see later on in the course). <br>\n",
    "For more examples, see https://www.datacamp.com/community/tutorials/long-wide-data-R"
   ]
  },
  {
   "cell_type": "code",
   "execution_count": 7,
   "metadata": {},
   "outputs": [
    {
     "data": {
      "text/html": [
       "<table>\n",
       "<caption>A data.frame: 6 × 5</caption>\n",
       "<thead>\n",
       "\t<tr><th></th><th scope=col>Sepal.Length</th><th scope=col>Sepal.Width</th><th scope=col>Petal.Length</th><th scope=col>Petal.Width</th><th scope=col>Species</th></tr>\n",
       "\t<tr><th></th><th scope=col>&lt;dbl&gt;</th><th scope=col>&lt;dbl&gt;</th><th scope=col>&lt;dbl&gt;</th><th scope=col>&lt;dbl&gt;</th><th scope=col>&lt;fct&gt;</th></tr>\n",
       "</thead>\n",
       "<tbody>\n",
       "\t<tr><th scope=row>1</th><td>5.1</td><td>3.5</td><td>1.4</td><td>0.2</td><td>setosa</td></tr>\n",
       "\t<tr><th scope=row>2</th><td>4.9</td><td>3.0</td><td>1.4</td><td>0.2</td><td>setosa</td></tr>\n",
       "\t<tr><th scope=row>3</th><td>4.7</td><td>3.2</td><td>1.3</td><td>0.2</td><td>setosa</td></tr>\n",
       "\t<tr><th scope=row>4</th><td>4.6</td><td>3.1</td><td>1.5</td><td>0.2</td><td>setosa</td></tr>\n",
       "\t<tr><th scope=row>5</th><td>5.0</td><td>3.6</td><td>1.4</td><td>0.2</td><td>setosa</td></tr>\n",
       "\t<tr><th scope=row>6</th><td>5.4</td><td>3.9</td><td>1.7</td><td>0.4</td><td>setosa</td></tr>\n",
       "</tbody>\n",
       "</table>\n"
      ],
      "text/latex": [
       "A data.frame: 6 × 5\n",
       "\\begin{tabular}{r|lllll}\n",
       "  & Sepal.Length & Sepal.Width & Petal.Length & Petal.Width & Species\\\\\n",
       "  & <dbl> & <dbl> & <dbl> & <dbl> & <fct>\\\\\n",
       "\\hline\n",
       "\t1 & 5.1 & 3.5 & 1.4 & 0.2 & setosa\\\\\n",
       "\t2 & 4.9 & 3.0 & 1.4 & 0.2 & setosa\\\\\n",
       "\t3 & 4.7 & 3.2 & 1.3 & 0.2 & setosa\\\\\n",
       "\t4 & 4.6 & 3.1 & 1.5 & 0.2 & setosa\\\\\n",
       "\t5 & 5.0 & 3.6 & 1.4 & 0.2 & setosa\\\\\n",
       "\t6 & 5.4 & 3.9 & 1.7 & 0.4 & setosa\\\\\n",
       "\\end{tabular}\n"
      ],
      "text/markdown": [
       "\n",
       "A data.frame: 6 × 5\n",
       "\n",
       "| <!--/--> | Sepal.Length &lt;dbl&gt; | Sepal.Width &lt;dbl&gt; | Petal.Length &lt;dbl&gt; | Petal.Width &lt;dbl&gt; | Species &lt;fct&gt; |\n",
       "|---|---|---|---|---|---|\n",
       "| 1 | 5.1 | 3.5 | 1.4 | 0.2 | setosa |\n",
       "| 2 | 4.9 | 3.0 | 1.4 | 0.2 | setosa |\n",
       "| 3 | 4.7 | 3.2 | 1.3 | 0.2 | setosa |\n",
       "| 4 | 4.6 | 3.1 | 1.5 | 0.2 | setosa |\n",
       "| 5 | 5.0 | 3.6 | 1.4 | 0.2 | setosa |\n",
       "| 6 | 5.4 | 3.9 | 1.7 | 0.4 | setosa |\n",
       "\n"
      ],
      "text/plain": [
       "  Sepal.Length Sepal.Width Petal.Length Petal.Width Species\n",
       "1 5.1          3.5         1.4          0.2         setosa \n",
       "2 4.9          3.0         1.4          0.2         setosa \n",
       "3 4.7          3.2         1.3          0.2         setosa \n",
       "4 4.6          3.1         1.5          0.2         setosa \n",
       "5 5.0          3.6         1.4          0.2         setosa \n",
       "6 5.4          3.9         1.7          0.4         setosa "
      ]
     },
     "metadata": {},
     "output_type": "display_data"
    },
    {
     "data": {
      "text/html": [
       "<style>\n",
       ".list-inline {list-style: none; margin:0; padding: 0}\n",
       ".list-inline>li {display: inline-block}\n",
       ".list-inline>li:not(:last-child)::after {content: \"\\00b7\"; padding: 0 .5ex}\n",
       "</style>\n",
       "<ol class=list-inline><li>150</li><li>5</li></ol>\n"
      ],
      "text/latex": [
       "\\begin{enumerate*}\n",
       "\\item 150\n",
       "\\item 5\n",
       "\\end{enumerate*}\n"
      ],
      "text/markdown": [
       "1. 150\n",
       "2. 5\n",
       "\n",
       "\n"
      ],
      "text/plain": [
       "[1] 150   5"
      ]
     },
     "metadata": {},
     "output_type": "display_data"
    },
    {
     "data": {
      "text/html": [
       "<table>\n",
       "<caption>A data.frame: 20 × 3</caption>\n",
       "<thead>\n",
       "\t<tr><th></th><th scope=col>Species</th><th scope=col>variable</th><th scope=col>value</th></tr>\n",
       "\t<tr><th></th><th scope=col>&lt;fct&gt;</th><th scope=col>&lt;fct&gt;</th><th scope=col>&lt;dbl&gt;</th></tr>\n",
       "</thead>\n",
       "<tbody>\n",
       "\t<tr><th scope=row>1</th><td>setosa</td><td>Sepal.Length</td><td>5.1</td></tr>\n",
       "\t<tr><th scope=row>2</th><td>setosa</td><td>Sepal.Length</td><td>4.9</td></tr>\n",
       "\t<tr><th scope=row>3</th><td>setosa</td><td>Sepal.Length</td><td>4.7</td></tr>\n",
       "\t<tr><th scope=row>4</th><td>setosa</td><td>Sepal.Length</td><td>4.6</td></tr>\n",
       "\t<tr><th scope=row>5</th><td>setosa</td><td>Sepal.Length</td><td>5.0</td></tr>\n",
       "\t<tr><th scope=row>6</th><td>setosa</td><td>Sepal.Length</td><td>5.4</td></tr>\n",
       "\t<tr><th scope=row>7</th><td>setosa</td><td>Sepal.Length</td><td>4.6</td></tr>\n",
       "\t<tr><th scope=row>8</th><td>setosa</td><td>Sepal.Length</td><td>5.0</td></tr>\n",
       "\t<tr><th scope=row>9</th><td>setosa</td><td>Sepal.Length</td><td>4.4</td></tr>\n",
       "\t<tr><th scope=row>10</th><td>setosa</td><td>Sepal.Length</td><td>4.9</td></tr>\n",
       "\t<tr><th scope=row>11</th><td>setosa</td><td>Sepal.Length</td><td>5.4</td></tr>\n",
       "\t<tr><th scope=row>12</th><td>setosa</td><td>Sepal.Length</td><td>4.8</td></tr>\n",
       "\t<tr><th scope=row>13</th><td>setosa</td><td>Sepal.Length</td><td>4.8</td></tr>\n",
       "\t<tr><th scope=row>14</th><td>setosa</td><td>Sepal.Length</td><td>4.3</td></tr>\n",
       "\t<tr><th scope=row>15</th><td>setosa</td><td>Sepal.Length</td><td>5.8</td></tr>\n",
       "\t<tr><th scope=row>16</th><td>setosa</td><td>Sepal.Length</td><td>5.7</td></tr>\n",
       "\t<tr><th scope=row>17</th><td>setosa</td><td>Sepal.Length</td><td>5.4</td></tr>\n",
       "\t<tr><th scope=row>18</th><td>setosa</td><td>Sepal.Length</td><td>5.1</td></tr>\n",
       "\t<tr><th scope=row>19</th><td>setosa</td><td>Sepal.Length</td><td>5.7</td></tr>\n",
       "\t<tr><th scope=row>20</th><td>setosa</td><td>Sepal.Length</td><td>5.1</td></tr>\n",
       "</tbody>\n",
       "</table>\n"
      ],
      "text/latex": [
       "A data.frame: 20 × 3\n",
       "\\begin{tabular}{r|lll}\n",
       "  & Species & variable & value\\\\\n",
       "  & <fct> & <fct> & <dbl>\\\\\n",
       "\\hline\n",
       "\t1 & setosa & Sepal.Length & 5.1\\\\\n",
       "\t2 & setosa & Sepal.Length & 4.9\\\\\n",
       "\t3 & setosa & Sepal.Length & 4.7\\\\\n",
       "\t4 & setosa & Sepal.Length & 4.6\\\\\n",
       "\t5 & setosa & Sepal.Length & 5.0\\\\\n",
       "\t6 & setosa & Sepal.Length & 5.4\\\\\n",
       "\t7 & setosa & Sepal.Length & 4.6\\\\\n",
       "\t8 & setosa & Sepal.Length & 5.0\\\\\n",
       "\t9 & setosa & Sepal.Length & 4.4\\\\\n",
       "\t10 & setosa & Sepal.Length & 4.9\\\\\n",
       "\t11 & setosa & Sepal.Length & 5.4\\\\\n",
       "\t12 & setosa & Sepal.Length & 4.8\\\\\n",
       "\t13 & setosa & Sepal.Length & 4.8\\\\\n",
       "\t14 & setosa & Sepal.Length & 4.3\\\\\n",
       "\t15 & setosa & Sepal.Length & 5.8\\\\\n",
       "\t16 & setosa & Sepal.Length & 5.7\\\\\n",
       "\t17 & setosa & Sepal.Length & 5.4\\\\\n",
       "\t18 & setosa & Sepal.Length & 5.1\\\\\n",
       "\t19 & setosa & Sepal.Length & 5.7\\\\\n",
       "\t20 & setosa & Sepal.Length & 5.1\\\\\n",
       "\\end{tabular}\n"
      ],
      "text/markdown": [
       "\n",
       "A data.frame: 20 × 3\n",
       "\n",
       "| <!--/--> | Species &lt;fct&gt; | variable &lt;fct&gt; | value &lt;dbl&gt; |\n",
       "|---|---|---|---|\n",
       "| 1 | setosa | Sepal.Length | 5.1 |\n",
       "| 2 | setosa | Sepal.Length | 4.9 |\n",
       "| 3 | setosa | Sepal.Length | 4.7 |\n",
       "| 4 | setosa | Sepal.Length | 4.6 |\n",
       "| 5 | setosa | Sepal.Length | 5.0 |\n",
       "| 6 | setosa | Sepal.Length | 5.4 |\n",
       "| 7 | setosa | Sepal.Length | 4.6 |\n",
       "| 8 | setosa | Sepal.Length | 5.0 |\n",
       "| 9 | setosa | Sepal.Length | 4.4 |\n",
       "| 10 | setosa | Sepal.Length | 4.9 |\n",
       "| 11 | setosa | Sepal.Length | 5.4 |\n",
       "| 12 | setosa | Sepal.Length | 4.8 |\n",
       "| 13 | setosa | Sepal.Length | 4.8 |\n",
       "| 14 | setosa | Sepal.Length | 4.3 |\n",
       "| 15 | setosa | Sepal.Length | 5.8 |\n",
       "| 16 | setosa | Sepal.Length | 5.7 |\n",
       "| 17 | setosa | Sepal.Length | 5.4 |\n",
       "| 18 | setosa | Sepal.Length | 5.1 |\n",
       "| 19 | setosa | Sepal.Length | 5.7 |\n",
       "| 20 | setosa | Sepal.Length | 5.1 |\n",
       "\n"
      ],
      "text/plain": [
       "   Species variable     value\n",
       "1  setosa  Sepal.Length 5.1  \n",
       "2  setosa  Sepal.Length 4.9  \n",
       "3  setosa  Sepal.Length 4.7  \n",
       "4  setosa  Sepal.Length 4.6  \n",
       "5  setosa  Sepal.Length 5.0  \n",
       "6  setosa  Sepal.Length 5.4  \n",
       "7  setosa  Sepal.Length 4.6  \n",
       "8  setosa  Sepal.Length 5.0  \n",
       "9  setosa  Sepal.Length 4.4  \n",
       "10 setosa  Sepal.Length 4.9  \n",
       "11 setosa  Sepal.Length 5.4  \n",
       "12 setosa  Sepal.Length 4.8  \n",
       "13 setosa  Sepal.Length 4.8  \n",
       "14 setosa  Sepal.Length 4.3  \n",
       "15 setosa  Sepal.Length 5.8  \n",
       "16 setosa  Sepal.Length 5.7  \n",
       "17 setosa  Sepal.Length 5.4  \n",
       "18 setosa  Sepal.Length 5.1  \n",
       "19 setosa  Sepal.Length 5.7  \n",
       "20 setosa  Sepal.Length 5.1  "
      ]
     },
     "metadata": {},
     "output_type": "display_data"
    },
    {
     "data": {
      "text/html": [
       "<table>\n",
       "<caption>A data.frame: 20 × 3</caption>\n",
       "<thead>\n",
       "\t<tr><th></th><th scope=col>Species</th><th scope=col>variable</th><th scope=col>value</th></tr>\n",
       "\t<tr><th></th><th scope=col>&lt;fct&gt;</th><th scope=col>&lt;fct&gt;</th><th scope=col>&lt;dbl&gt;</th></tr>\n",
       "</thead>\n",
       "<tbody>\n",
       "\t<tr><th scope=row>581</th><td>virginica</td><td>Petal.Width</td><td>1.9</td></tr>\n",
       "\t<tr><th scope=row>582</th><td>virginica</td><td>Petal.Width</td><td>2.0</td></tr>\n",
       "\t<tr><th scope=row>583</th><td>virginica</td><td>Petal.Width</td><td>2.2</td></tr>\n",
       "\t<tr><th scope=row>584</th><td>virginica</td><td>Petal.Width</td><td>1.5</td></tr>\n",
       "\t<tr><th scope=row>585</th><td>virginica</td><td>Petal.Width</td><td>1.4</td></tr>\n",
       "\t<tr><th scope=row>586</th><td>virginica</td><td>Petal.Width</td><td>2.3</td></tr>\n",
       "\t<tr><th scope=row>587</th><td>virginica</td><td>Petal.Width</td><td>2.4</td></tr>\n",
       "\t<tr><th scope=row>588</th><td>virginica</td><td>Petal.Width</td><td>1.8</td></tr>\n",
       "\t<tr><th scope=row>589</th><td>virginica</td><td>Petal.Width</td><td>1.8</td></tr>\n",
       "\t<tr><th scope=row>590</th><td>virginica</td><td>Petal.Width</td><td>2.1</td></tr>\n",
       "\t<tr><th scope=row>591</th><td>virginica</td><td>Petal.Width</td><td>2.4</td></tr>\n",
       "\t<tr><th scope=row>592</th><td>virginica</td><td>Petal.Width</td><td>2.3</td></tr>\n",
       "\t<tr><th scope=row>593</th><td>virginica</td><td>Petal.Width</td><td>1.9</td></tr>\n",
       "\t<tr><th scope=row>594</th><td>virginica</td><td>Petal.Width</td><td>2.3</td></tr>\n",
       "\t<tr><th scope=row>595</th><td>virginica</td><td>Petal.Width</td><td>2.5</td></tr>\n",
       "\t<tr><th scope=row>596</th><td>virginica</td><td>Petal.Width</td><td>2.3</td></tr>\n",
       "\t<tr><th scope=row>597</th><td>virginica</td><td>Petal.Width</td><td>1.9</td></tr>\n",
       "\t<tr><th scope=row>598</th><td>virginica</td><td>Petal.Width</td><td>2.0</td></tr>\n",
       "\t<tr><th scope=row>599</th><td>virginica</td><td>Petal.Width</td><td>2.3</td></tr>\n",
       "\t<tr><th scope=row>600</th><td>virginica</td><td>Petal.Width</td><td>1.8</td></tr>\n",
       "</tbody>\n",
       "</table>\n"
      ],
      "text/latex": [
       "A data.frame: 20 × 3\n",
       "\\begin{tabular}{r|lll}\n",
       "  & Species & variable & value\\\\\n",
       "  & <fct> & <fct> & <dbl>\\\\\n",
       "\\hline\n",
       "\t581 & virginica & Petal.Width & 1.9\\\\\n",
       "\t582 & virginica & Petal.Width & 2.0\\\\\n",
       "\t583 & virginica & Petal.Width & 2.2\\\\\n",
       "\t584 & virginica & Petal.Width & 1.5\\\\\n",
       "\t585 & virginica & Petal.Width & 1.4\\\\\n",
       "\t586 & virginica & Petal.Width & 2.3\\\\\n",
       "\t587 & virginica & Petal.Width & 2.4\\\\\n",
       "\t588 & virginica & Petal.Width & 1.8\\\\\n",
       "\t589 & virginica & Petal.Width & 1.8\\\\\n",
       "\t590 & virginica & Petal.Width & 2.1\\\\\n",
       "\t591 & virginica & Petal.Width & 2.4\\\\\n",
       "\t592 & virginica & Petal.Width & 2.3\\\\\n",
       "\t593 & virginica & Petal.Width & 1.9\\\\\n",
       "\t594 & virginica & Petal.Width & 2.3\\\\\n",
       "\t595 & virginica & Petal.Width & 2.5\\\\\n",
       "\t596 & virginica & Petal.Width & 2.3\\\\\n",
       "\t597 & virginica & Petal.Width & 1.9\\\\\n",
       "\t598 & virginica & Petal.Width & 2.0\\\\\n",
       "\t599 & virginica & Petal.Width & 2.3\\\\\n",
       "\t600 & virginica & Petal.Width & 1.8\\\\\n",
       "\\end{tabular}\n"
      ],
      "text/markdown": [
       "\n",
       "A data.frame: 20 × 3\n",
       "\n",
       "| <!--/--> | Species &lt;fct&gt; | variable &lt;fct&gt; | value &lt;dbl&gt; |\n",
       "|---|---|---|---|\n",
       "| 581 | virginica | Petal.Width | 1.9 |\n",
       "| 582 | virginica | Petal.Width | 2.0 |\n",
       "| 583 | virginica | Petal.Width | 2.2 |\n",
       "| 584 | virginica | Petal.Width | 1.5 |\n",
       "| 585 | virginica | Petal.Width | 1.4 |\n",
       "| 586 | virginica | Petal.Width | 2.3 |\n",
       "| 587 | virginica | Petal.Width | 2.4 |\n",
       "| 588 | virginica | Petal.Width | 1.8 |\n",
       "| 589 | virginica | Petal.Width | 1.8 |\n",
       "| 590 | virginica | Petal.Width | 2.1 |\n",
       "| 591 | virginica | Petal.Width | 2.4 |\n",
       "| 592 | virginica | Petal.Width | 2.3 |\n",
       "| 593 | virginica | Petal.Width | 1.9 |\n",
       "| 594 | virginica | Petal.Width | 2.3 |\n",
       "| 595 | virginica | Petal.Width | 2.5 |\n",
       "| 596 | virginica | Petal.Width | 2.3 |\n",
       "| 597 | virginica | Petal.Width | 1.9 |\n",
       "| 598 | virginica | Petal.Width | 2.0 |\n",
       "| 599 | virginica | Petal.Width | 2.3 |\n",
       "| 600 | virginica | Petal.Width | 1.8 |\n",
       "\n"
      ],
      "text/plain": [
       "    Species   variable    value\n",
       "581 virginica Petal.Width 1.9  \n",
       "582 virginica Petal.Width 2.0  \n",
       "583 virginica Petal.Width 2.2  \n",
       "584 virginica Petal.Width 1.5  \n",
       "585 virginica Petal.Width 1.4  \n",
       "586 virginica Petal.Width 2.3  \n",
       "587 virginica Petal.Width 2.4  \n",
       "588 virginica Petal.Width 1.8  \n",
       "589 virginica Petal.Width 1.8  \n",
       "590 virginica Petal.Width 2.1  \n",
       "591 virginica Petal.Width 2.4  \n",
       "592 virginica Petal.Width 2.3  \n",
       "593 virginica Petal.Width 1.9  \n",
       "594 virginica Petal.Width 2.3  \n",
       "595 virginica Petal.Width 2.5  \n",
       "596 virginica Petal.Width 2.3  \n",
       "597 virginica Petal.Width 1.9  \n",
       "598 virginica Petal.Width 2.0  \n",
       "599 virginica Petal.Width 2.3  \n",
       "600 virginica Petal.Width 1.8  "
      ]
     },
     "metadata": {},
     "output_type": "display_data"
    },
    {
     "data": {
      "text/html": [
       "<style>\n",
       ".list-inline {list-style: none; margin:0; padding: 0}\n",
       ".list-inline>li {display: inline-block}\n",
       ".list-inline>li:not(:last-child)::after {content: \"\\00b7\"; padding: 0 .5ex}\n",
       "</style>\n",
       "<ol class=list-inline><li>600</li><li>3</li></ol>\n"
      ],
      "text/latex": [
       "\\begin{enumerate*}\n",
       "\\item 600\n",
       "\\item 3\n",
       "\\end{enumerate*}\n"
      ],
      "text/markdown": [
       "1. 600\n",
       "2. 3\n",
       "\n",
       "\n"
      ],
      "text/plain": [
       "[1] 600   3"
      ]
     },
     "metadata": {},
     "output_type": "display_data"
    }
   ],
   "source": [
    "library(reshape2)\n",
    "\n",
    "head(iris)\n",
    "\n",
    "dim(iris)\n",
    "\n",
    "# turn iris into long format\n",
    "m <- melt(iris, id.vars =  c(\"Species\"))\n",
    "head(m, 20)\n",
    "tail(m, 20)\n",
    "\n",
    "dim(m)\n",
    "\n",
    "# turn long format back to wide format. dcast requires a formula (y ~ x) defining how the data frame should look like\n",
    "#d <- dcast(m,   1:nrow(iris) + Species ~ variable, value.var  = \"value\")\n",
    "#head(d)\n"
   ]
  },
  {
   "cell_type": "markdown",
   "metadata": {},
   "source": [
    "## Grouping operations\n",
    "\n",
    "Grouping operations are useful to calculate summaries statistics based on some group, they are similar to the tapply function that we saw before. <br> <br>\n",
    "\n",
    "\n",
    "For best use of grouping, check the dplyr package, which is part of the tidyverse package https://dplyr.tidyverse.org/\n"
   ]
  },
  {
   "cell_type": "code",
   "execution_count": 8,
   "metadata": {},
   "outputs": [
    {
     "data": {
      "text/html": [
       "'*********** Summary of each column ***********'"
      ],
      "text/latex": [
       "'*********** Summary of each column ***********'"
      ],
      "text/markdown": [
       "'*********** Summary of each column ***********'"
      ],
      "text/plain": [
       "[1] \"*********** Summary of each column ***********\""
      ]
     },
     "metadata": {},
     "output_type": "display_data"
    },
    {
     "data": {
      "text/plain": [
       "  Sepal.Length    Sepal.Width     Petal.Length    Petal.Width   \n",
       " Min.   :4.300   Min.   :2.000   Min.   :1.000   Min.   :0.100  \n",
       " 1st Qu.:5.100   1st Qu.:2.800   1st Qu.:1.600   1st Qu.:0.300  \n",
       " Median :5.800   Median :3.000   Median :4.350   Median :1.300  \n",
       " Mean   :5.843   Mean   :3.057   Mean   :3.758   Mean   :1.199  \n",
       " 3rd Qu.:6.400   3rd Qu.:3.300   3rd Qu.:5.100   3rd Qu.:1.800  \n",
       " Max.   :7.900   Max.   :4.400   Max.   :6.900   Max.   :2.500  \n",
       "       Species  \n",
       " setosa    :50  \n",
       " versicolor:50  \n",
       " virginica :50  \n",
       "                \n",
       "                \n",
       "                "
      ]
     },
     "metadata": {},
     "output_type": "display_data"
    },
    {
     "data": {
      "text/html": [
       "'*********** How many species counts are there? ***********'"
      ],
      "text/latex": [
       "'*********** How many species counts are there? ***********'"
      ],
      "text/markdown": [
       "'*********** How many species counts are there? ***********'"
      ],
      "text/plain": [
       "[1] \"*********** How many species counts are there? ***********\""
      ]
     },
     "metadata": {},
     "output_type": "display_data"
    },
    {
     "data": {
      "text/plain": [
       "\n",
       "    setosa versicolor  virginica \n",
       "        50         50         50 "
      ]
     },
     "metadata": {},
     "output_type": "display_data"
    },
    {
     "data": {
      "text/html": [
       "'*********** Colmun means ***********'"
      ],
      "text/latex": [
       "'*********** Colmun means ***********'"
      ],
      "text/markdown": [
       "'*********** Colmun means ***********'"
      ],
      "text/plain": [
       "[1] \"*********** Colmun means ***********\""
      ]
     },
     "metadata": {},
     "output_type": "display_data"
    },
    {
     "data": {
      "text/html": [
       "<style>\n",
       ".dl-inline {width: auto; margin:0; padding: 0}\n",
       ".dl-inline>dt, .dl-inline>dd {float: none; width: auto; display: inline-block}\n",
       ".dl-inline>dt::after {content: \":\\0020\"; padding-right: .5ex}\n",
       ".dl-inline>dt:not(:first-of-type) {padding-left: .5ex}\n",
       "</style><dl class=dl-inline><dt>Sepal.Length</dt><dd>5.84333333333333</dd><dt>Sepal.Width</dt><dd>3.05733333333333</dd><dt>Petal.Length</dt><dd>3.758</dd><dt>Petal.Width</dt><dd>1.19933333333333</dd></dl>\n"
      ],
      "text/latex": [
       "\\begin{description*}\n",
       "\\item[Sepal.Length] 5.84333333333333\n",
       "\\item[Sepal.Width] 3.05733333333333\n",
       "\\item[Petal.Length] 3.758\n",
       "\\item[Petal.Width] 1.19933333333333\n",
       "\\end{description*}\n"
      ],
      "text/markdown": [
       "Sepal.Length\n",
       ":   5.84333333333333Sepal.Width\n",
       ":   3.05733333333333Petal.Length\n",
       ":   3.758Petal.Width\n",
       ":   1.19933333333333\n",
       "\n"
      ],
      "text/plain": [
       "Sepal.Length  Sepal.Width Petal.Length  Petal.Width \n",
       "    5.843333     3.057333     3.758000     1.199333 "
      ]
     },
     "metadata": {},
     "output_type": "display_data"
    },
    {
     "data": {
      "text/html": [
       "'***********Mean of sepal data by Species***********'"
      ],
      "text/latex": [
       "'***********Mean of sepal data by Species***********'"
      ],
      "text/markdown": [
       "'***********Mean of sepal data by Species***********'"
      ],
      "text/plain": [
       "[1] \"***********Mean of sepal data by Species***********\""
      ]
     },
     "metadata": {},
     "output_type": "display_data"
    },
    {
     "data": {
      "text/html": [
       "<table>\n",
       "<caption>A data.frame: 3 × 5</caption>\n",
       "<thead>\n",
       "\t<tr><th scope=col>Group.1</th><th scope=col>Sepal.Length</th><th scope=col>Sepal.Width</th><th scope=col>Petal.Length</th><th scope=col>Petal.Width</th></tr>\n",
       "\t<tr><th scope=col>&lt;fct&gt;</th><th scope=col>&lt;dbl&gt;</th><th scope=col>&lt;dbl&gt;</th><th scope=col>&lt;dbl&gt;</th><th scope=col>&lt;dbl&gt;</th></tr>\n",
       "</thead>\n",
       "<tbody>\n",
       "\t<tr><td>setosa    </td><td>5.006</td><td>3.428</td><td>1.462</td><td>0.246</td></tr>\n",
       "\t<tr><td>versicolor</td><td>5.936</td><td>2.770</td><td>4.260</td><td>1.326</td></tr>\n",
       "\t<tr><td>virginica </td><td>6.588</td><td>2.974</td><td>5.552</td><td>2.026</td></tr>\n",
       "</tbody>\n",
       "</table>\n"
      ],
      "text/latex": [
       "A data.frame: 3 × 5\n",
       "\\begin{tabular}{lllll}\n",
       " Group.1 & Sepal.Length & Sepal.Width & Petal.Length & Petal.Width\\\\\n",
       " <fct> & <dbl> & <dbl> & <dbl> & <dbl>\\\\\n",
       "\\hline\n",
       "\t setosa     & 5.006 & 3.428 & 1.462 & 0.246\\\\\n",
       "\t versicolor & 5.936 & 2.770 & 4.260 & 1.326\\\\\n",
       "\t virginica  & 6.588 & 2.974 & 5.552 & 2.026\\\\\n",
       "\\end{tabular}\n"
      ],
      "text/markdown": [
       "\n",
       "A data.frame: 3 × 5\n",
       "\n",
       "| Group.1 &lt;fct&gt; | Sepal.Length &lt;dbl&gt; | Sepal.Width &lt;dbl&gt; | Petal.Length &lt;dbl&gt; | Petal.Width &lt;dbl&gt; |\n",
       "|---|---|---|---|---|\n",
       "| setosa     | 5.006 | 3.428 | 1.462 | 0.246 |\n",
       "| versicolor | 5.936 | 2.770 | 4.260 | 1.326 |\n",
       "| virginica  | 6.588 | 2.974 | 5.552 | 2.026 |\n",
       "\n"
      ],
      "text/plain": [
       "  Group.1    Sepal.Length Sepal.Width Petal.Length Petal.Width\n",
       "1 setosa     5.006        3.428       1.462        0.246      \n",
       "2 versicolor 5.936        2.770       4.260        1.326      \n",
       "3 virginica  6.588        2.974       5.552        2.026      "
      ]
     },
     "metadata": {},
     "output_type": "display_data"
    }
   ],
   "source": [
    "\"*********** Summary of each column ***********\"\n",
    "summary(iris)\n",
    "\n",
    "\n",
    "\"*********** How many species counts are there? ***********\"\n",
    "table(iris$Species)\n",
    "\n",
    "\n",
    "\"*********** Colmun means ***********\"\n",
    "colMeans(iris[, -ncol(iris)]) # again removing the factor\n",
    "\n",
    "\n",
    "\"***********Mean of sepal data by Species***********\"\n",
    "aggregate(x = iris[, -ncol(iris)], by = list(iris$Species), FUN = mean) # you can also specify external functions as FUN\n",
    "\n"
   ]
  },
  {
   "cell_type": "markdown",
   "metadata": {},
   "source": [
    "## Reading data frames from files\n",
    "\n",
    "R provides quick functions to read data frames from files: read.table, read.csv and read.delim. read.csv and read.delim are just wrappers for read.table, have a look at the documentation to see what they actually do.\n"
   ]
  },
  {
   "cell_type": "code",
   "execution_count": 9,
   "metadata": {},
   "outputs": [
    {
     "data": {
      "text/html": [
       "<table>\n",
       "<caption>A data.frame: 6 × 4</caption>\n",
       "<thead>\n",
       "\t<tr><th></th><th scope=col>Murder</th><th scope=col>Assault</th><th scope=col>UrbanPop</th><th scope=col>Rape</th></tr>\n",
       "\t<tr><th></th><th scope=col>&lt;dbl&gt;</th><th scope=col>&lt;int&gt;</th><th scope=col>&lt;int&gt;</th><th scope=col>&lt;dbl&gt;</th></tr>\n",
       "</thead>\n",
       "<tbody>\n",
       "\t<tr><th scope=row>Alabama</th><td>13.2</td><td>236</td><td>58</td><td>21.2</td></tr>\n",
       "\t<tr><th scope=row>Alaska</th><td>10.0</td><td>263</td><td>48</td><td>44.5</td></tr>\n",
       "\t<tr><th scope=row>Arizona</th><td> 8.1</td><td>294</td><td>80</td><td>31.0</td></tr>\n",
       "\t<tr><th scope=row>Arkansas</th><td> 8.8</td><td>190</td><td>50</td><td>19.5</td></tr>\n",
       "\t<tr><th scope=row>California</th><td> 9.0</td><td>276</td><td>91</td><td>40.6</td></tr>\n",
       "\t<tr><th scope=row>Colorado</th><td> 7.9</td><td>204</td><td>78</td><td>38.7</td></tr>\n",
       "</tbody>\n",
       "</table>\n"
      ],
      "text/latex": [
       "A data.frame: 6 × 4\n",
       "\\begin{tabular}{r|llll}\n",
       "  & Murder & Assault & UrbanPop & Rape\\\\\n",
       "  & <dbl> & <int> & <int> & <dbl>\\\\\n",
       "\\hline\n",
       "\tAlabama & 13.2 & 236 & 58 & 21.2\\\\\n",
       "\tAlaska & 10.0 & 263 & 48 & 44.5\\\\\n",
       "\tArizona &  8.1 & 294 & 80 & 31.0\\\\\n",
       "\tArkansas &  8.8 & 190 & 50 & 19.5\\\\\n",
       "\tCalifornia &  9.0 & 276 & 91 & 40.6\\\\\n",
       "\tColorado &  7.9 & 204 & 78 & 38.7\\\\\n",
       "\\end{tabular}\n"
      ],
      "text/markdown": [
       "\n",
       "A data.frame: 6 × 4\n",
       "\n",
       "| <!--/--> | Murder &lt;dbl&gt; | Assault &lt;int&gt; | UrbanPop &lt;int&gt; | Rape &lt;dbl&gt; |\n",
       "|---|---|---|---|---|\n",
       "| Alabama | 13.2 | 236 | 58 | 21.2 |\n",
       "| Alaska | 10.0 | 263 | 48 | 44.5 |\n",
       "| Arizona |  8.1 | 294 | 80 | 31.0 |\n",
       "| Arkansas |  8.8 | 190 | 50 | 19.5 |\n",
       "| California |  9.0 | 276 | 91 | 40.6 |\n",
       "| Colorado |  7.9 | 204 | 78 | 38.7 |\n",
       "\n"
      ],
      "text/plain": [
       "           Murder Assault UrbanPop Rape\n",
       "Alabama    13.2   236     58       21.2\n",
       "Alaska     10.0   263     48       44.5\n",
       "Arizona     8.1   294     80       31.0\n",
       "Arkansas    8.8   190     50       19.5\n",
       "California  9.0   276     91       40.6\n",
       "Colorado    7.9   204     78       38.7"
      ]
     },
     "metadata": {},
     "output_type": "display_data"
    },
    {
     "name": "stdout",
     "output_type": "stream",
     "text": [
      "'data.frame':\t50 obs. of  4 variables:\n",
      " $ Murder  : num  13.2 10 8.1 8.8 9 7.9 3.3 5.9 15.4 17.4 ...\n",
      " $ Assault : int  236 263 294 190 276 204 110 238 335 211 ...\n",
      " $ UrbanPop: int  58 48 80 50 91 78 77 72 80 60 ...\n",
      " $ Rape    : num  21.2 44.5 31 19.5 40.6 38.7 11.1 15.8 31.9 25.8 ...\n"
     ]
    }
   ],
   "source": [
    "df <- read.table(\"Data/USArrests.csv\", sep=\",\")\n",
    "head(df)\n",
    "\n",
    "str(df)\n",
    "\n",
    "# You can even read the file using its hyperlink without downloading it\n",
    "df <- read.table(\"https://raw.githubusercontent.com/CBGP-UPM-INIA-PUBLIC/Introduction_R/master/Data/USArrests.csv\", sep=\",\")\n"
   ]
  },
  {
   "cell_type": "markdown",
   "metadata": {},
   "source": [
    "## Writing data frames to files\n",
    "\n",
    "Use write.table to write a data frame to a file. "
   ]
  },
  {
   "cell_type": "code",
   "execution_count": 10,
   "metadata": {},
   "outputs": [],
   "source": [
    "players <- c(\"Alice\", \"Bob\", \"John\", \"Richard\")\n",
    "sex <- factor(c(\"F\", \"M\", \"M\", \"M\"))\n",
    "age <- c(20, 26, 25, 65)\n",
    "\n",
    "df <- data.frame(Players = players, Sex = sex, Age = age)\n",
    "\n",
    "write.table(df, \"Data/players.tsv\", sep=\"\\t\")\n",
    "\n",
    "# removes quotes\n",
    "#write.table(df, \"Data/players.tsv\", sep=\"\\t\", quote = F)\n",
    "\n",
    "# removes rownames\n",
    "#write.table(df, \"Data/players.tsv\", sep=\"\\t\", quote = F, row.names = F)\n",
    "\n",
    "# Wanna read an Excel file? checkl the readxl package\n",
    "\n"
   ]
  },
  {
   "cell_type": "code",
   "execution_count": null,
   "metadata": {},
   "outputs": [],
   "source": []
  }
 ],
 "metadata": {
  "kernelspec": {
   "display_name": "R",
   "language": "R",
   "name": "ir"
  },
  "language_info": {
   "codemirror_mode": "r",
   "file_extension": ".r",
   "mimetype": "text/x-r-source",
   "name": "R",
   "pygments_lexer": "r",
   "version": "4.0.0"
  }
 },
 "nbformat": 4,
 "nbformat_minor": 2
}
